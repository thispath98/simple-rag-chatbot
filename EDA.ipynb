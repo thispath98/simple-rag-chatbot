{
 "cells": [
  {
   "cell_type": "code",
   "execution_count": 1,
   "metadata": {},
   "outputs": [
    {
     "name": "stdout",
     "output_type": "stream",
     "text": [
      "<class 'dict'>\n",
      "2717\n"
     ]
    }
   ],
   "source": [
    "import os\n",
    "import pickle\n",
    "\n",
    "with open(\"data/final_result.pkl\", \"rb\") as f:\n",
    "    data = pickle.load(f)\n",
    "\n",
    "print(type(data))\n",
    "print(len(data))"
   ]
  },
  {
   "cell_type": "code",
   "execution_count": 2,
   "metadata": {},
   "outputs": [
    {
     "data": {
      "text/html": [
       "<div>\n",
       "<style scoped>\n",
       "    .dataframe tbody tr th:only-of-type {\n",
       "        vertical-align: middle;\n",
       "    }\n",
       "\n",
       "    .dataframe tbody tr th {\n",
       "        vertical-align: top;\n",
       "    }\n",
       "\n",
       "    .dataframe thead th {\n",
       "        text-align: right;\n",
       "    }\n",
       "</style>\n",
       "<table border=\"1\" class=\"dataframe\">\n",
       "  <thead>\n",
       "    <tr style=\"text-align: right;\">\n",
       "      <th></th>\n",
       "      <th>query</th>\n",
       "      <th>answer</th>\n",
       "    </tr>\n",
       "  </thead>\n",
       "  <tbody>\n",
       "    <tr>\n",
       "      <th>0</th>\n",
       "      <td>[가입절차] 스마트스토어센터 회원가입은 어떻게 하나요? (ID만들기)</td>\n",
       "      <td>네이버 커머스 ID 하나로 스마트스토어센터와 같은 네이버의 다양한 커머스 서비스를 ...</td>\n",
       "    </tr>\n",
       "    <tr>\n",
       "      <th>1</th>\n",
       "      <td>[가입서류] 스마트스토어 판매자 유형별 필요한 서류가 어떻게 되나요?</td>\n",
       "      <td>스마트스토어 판매 회원 분류는 아래와 같으며 반드시 모든 서류를 제출해 주셔야 가입...</td>\n",
       "    </tr>\n",
       "    <tr>\n",
       "      <th>2</th>\n",
       "      <td>[심사결과] 가입 신청을 했습니다. 심사 결과는 어떻게 확인하나요?</td>\n",
       "      <td>스마트스토어센터에 로그인하시면 \"팝업\" 또는 [판매자 정보 &gt; 심사내역 조회] 메뉴...</td>\n",
       "    </tr>\n",
       "    <tr>\n",
       "      <th>3</th>\n",
       "      <td>[가입절차][쇼핑윈도/패션타운] 네이버 쇼핑윈도 노출 절차는 어떻게 되나요?</td>\n",
       "      <td>네이버 쇼핑 윈도에 입점하기 위해서는, [노출관리 &gt; 쇼핑윈도 노출제안] 을 통해 ...</td>\n",
       "    </tr>\n",
       "    <tr>\n",
       "      <th>4</th>\n",
       "      <td>[가입서류] 국내 사업자로 가입하려면 어떤 서류가 필요한가요?</td>\n",
       "      <td>국내 간이/개인(일반)/법인 사업자'로 가입하기 위해서는 아래의 서류를 사전에 준비...</td>\n",
       "    </tr>\n",
       "  </tbody>\n",
       "</table>\n",
       "</div>"
      ],
      "text/plain": [
       "                                        query  \\\n",
       "0      [가입절차] 스마트스토어센터 회원가입은 어떻게 하나요? (ID만들기)   \n",
       "1      [가입서류] 스마트스토어 판매자 유형별 필요한 서류가 어떻게 되나요?   \n",
       "2       [심사결과] 가입 신청을 했습니다. 심사 결과는 어떻게 확인하나요?   \n",
       "3  [가입절차][쇼핑윈도/패션타운] 네이버 쇼핑윈도 노출 절차는 어떻게 되나요?   \n",
       "4          [가입서류] 국내 사업자로 가입하려면 어떤 서류가 필요한가요?   \n",
       "\n",
       "                                              answer  \n",
       "0  네이버 커머스 ID 하나로 스마트스토어센터와 같은 네이버의 다양한 커머스 서비스를 ...  \n",
       "1  스마트스토어 판매 회원 분류는 아래와 같으며 반드시 모든 서류를 제출해 주셔야 가입...  \n",
       "2  스마트스토어센터에 로그인하시면 \"팝업\" 또는 [판매자 정보 > 심사내역 조회] 메뉴...  \n",
       "3  네이버 쇼핑 윈도에 입점하기 위해서는, [노출관리 > 쇼핑윈도 노출제안] 을 통해 ...  \n",
       "4  국내 간이/개인(일반)/법인 사업자'로 가입하기 위해서는 아래의 서류를 사전에 준비...  "
      ]
     },
     "execution_count": 2,
     "metadata": {},
     "output_type": "execute_result"
    }
   ],
   "source": [
    "import pandas as pd\n",
    "\n",
    "df = pd.DataFrame(list(data.items()), columns=[\"query\", \"answer\"])\n",
    "df.head()"
   ]
  },
  {
   "cell_type": "code",
   "execution_count": 3,
   "metadata": {},
   "outputs": [
    {
     "name": "stdout",
     "output_type": "stream",
     "text": [
      "데이터 타입, 결측치 확인\n",
      "<class 'pandas.core.frame.DataFrame'>\n",
      "RangeIndex: 2717 entries, 0 to 2716\n",
      "Data columns (total 2 columns):\n",
      " #   Column  Non-Null Count  Dtype \n",
      "---  ------  --------------  ----- \n",
      " 0   query   2717 non-null   object\n",
      " 1   answer  2717 non-null   object\n",
      "dtypes: object(2)\n",
      "memory usage: 42.6+ KB\n"
     ]
    },
    {
     "data": {
      "text/plain": [
       "None"
      ]
     },
     "metadata": {},
     "output_type": "display_data"
    },
    {
     "name": "stdout",
     "output_type": "stream",
     "text": [
      "수치형 통계 요약\n"
     ]
    },
    {
     "data": {
      "text/html": [
       "<div>\n",
       "<style scoped>\n",
       "    .dataframe tbody tr th:only-of-type {\n",
       "        vertical-align: middle;\n",
       "    }\n",
       "\n",
       "    .dataframe tbody tr th {\n",
       "        vertical-align: top;\n",
       "    }\n",
       "\n",
       "    .dataframe thead th {\n",
       "        text-align: right;\n",
       "    }\n",
       "</style>\n",
       "<table border=\"1\" class=\"dataframe\">\n",
       "  <thead>\n",
       "    <tr style=\"text-align: right;\">\n",
       "      <th></th>\n",
       "      <th>query</th>\n",
       "      <th>answer</th>\n",
       "    </tr>\n",
       "  </thead>\n",
       "  <tbody>\n",
       "    <tr>\n",
       "      <th>count</th>\n",
       "      <td>2717</td>\n",
       "      <td>2717</td>\n",
       "    </tr>\n",
       "    <tr>\n",
       "      <th>unique</th>\n",
       "      <td>2717</td>\n",
       "      <td>2706</td>\n",
       "    </tr>\n",
       "    <tr>\n",
       "      <th>top</th>\n",
       "      <td>[가입절차] 스마트스토어센터 회원가입은 어떻게 하나요? (ID만들기)</td>\n",
       "      <td>스마트스토어 대출안심케어 전용 상담센터로 문의하시면 자세히 안내 받으실 수 있습니다...</td>\n",
       "    </tr>\n",
       "    <tr>\n",
       "      <th>freq</th>\n",
       "      <td>1</td>\n",
       "      <td>3</td>\n",
       "    </tr>\n",
       "  </tbody>\n",
       "</table>\n",
       "</div>"
      ],
      "text/plain": [
       "                                         query  \\\n",
       "count                                     2717   \n",
       "unique                                    2717   \n",
       "top     [가입절차] 스마트스토어센터 회원가입은 어떻게 하나요? (ID만들기)   \n",
       "freq                                         1   \n",
       "\n",
       "                                                   answer  \n",
       "count                                                2717  \n",
       "unique                                               2706  \n",
       "top     스마트스토어 대출안심케어 전용 상담센터로 문의하시면 자세히 안내 받으실 수 있습니다...  \n",
       "freq                                                    3  "
      ]
     },
     "metadata": {},
     "output_type": "display_data"
    },
    {
     "name": "stdout",
     "output_type": "stream",
     "text": [
      "결측치 개수 확인:\n"
     ]
    },
    {
     "data": {
      "text/plain": [
       "query     0\n",
       "answer    0\n",
       "dtype: int64"
      ]
     },
     "metadata": {},
     "output_type": "display_data"
    },
    {
     "name": "stdout",
     "output_type": "stream",
     "text": [
      "중복 행 확인:\n"
     ]
    },
    {
     "data": {
      "text/plain": [
       "np.int64(0)"
      ]
     },
     "metadata": {},
     "output_type": "display_data"
    },
    {
     "name": "stdout",
     "output_type": "stream",
     "text": [
      "유니크한 개수 확인:\n"
     ]
    },
    {
     "data": {
      "text/plain": [
       "query     2717\n",
       "answer    2706\n",
       "dtype: int64"
      ]
     },
     "metadata": {},
     "output_type": "display_data"
    }
   ],
   "source": [
    "print(\"데이터 타입, 결측치 확인\")\n",
    "display(df.info())\n",
    "\n",
    "print(\"수치형 통계 요약\")\n",
    "display(df.describe())\n",
    "\n",
    "print(\"결측치 개수 확인:\")\n",
    "display(df.isnull().sum())\n",
    "\n",
    "print(\"중복 행 확인:\")\n",
    "display(df.duplicated().sum())\n",
    "\n",
    "print(\"유니크한 개수 확인:\")\n",
    "display(df.nunique())"
   ]
  },
  {
   "cell_type": "code",
   "execution_count": 5,
   "metadata": {},
   "outputs": [
    {
     "data": {
      "image/png": "[encoded data removed]",
      "text/plain": [
       "<Figure size 1200x500 with 2 Axes>"
      ]
     },
     "metadata": {},
     "output_type": "display_data"
    }
   ],
   "source": [
    "import matplotlib.pyplot as plt\n",
    "\n",
    "# 시각화\n",
    "fig, axes = plt.subplots(nrows=1, ncols=2, figsize=(12, 5))\n",
    "\n",
    "df[\"query_len\"] = df[\"query\"].apply(len)\n",
    "df[\"answer_len\"] = df[\"answer\"].apply(len)\n",
    "\n",
    "# 제목 길이\n",
    "axes[0].hist(df[\"query_len\"], bins=range(0, max(df[\"query_len\"]) + 2), edgecolor='black')\n",
    "axes[0].set_title(\"Distribution of query length\")\n",
    "axes[0].set_xlabel(\"Number of Characters\")\n",
    "axes[0].set_ylabel(\"Frequency\")\n",
    "\n",
    "# 설명 길이\n",
    "axes[1].hist(df[\"answer_len\"], bins=range(0, max(df[\"answer_len\"]) + 5, 5), edgecolor='black')\n",
    "axes[1].set_title(\"Distribution of answer length\")\n",
    "axes[1].set_xlabel(\"Number of Characters\")\n",
    "axes[1].set_ylabel(\"Frequency\")\n",
    "\n",
    "plt.tight_layout()\n",
    "plt.show()"
   ]
  },
  {
   "cell_type": "code",
   "execution_count": 9,
   "metadata": {},
   "outputs": [
    {
     "data": {
      "text/html": [
       "<div>\n",
       "<style scoped>\n",
       "    .dataframe tbody tr th:only-of-type {\n",
       "        vertical-align: middle;\n",
       "    }\n",
       "\n",
       "    .dataframe tbody tr th {\n",
       "        vertical-align: top;\n",
       "    }\n",
       "\n",
       "    .dataframe thead th {\n",
       "        text-align: right;\n",
       "    }\n",
       "</style>\n",
       "<table border=\"1\" class=\"dataframe\">\n",
       "  <thead>\n",
       "    <tr style=\"text-align: right;\">\n",
       "      <th></th>\n",
       "      <th>query</th>\n",
       "      <th>answer</th>\n",
       "      <th>query_len</th>\n",
       "      <th>answer_len</th>\n",
       "      <th>cleaned_query</th>\n",
       "      <th>cleaned_answer</th>\n",
       "    </tr>\n",
       "  </thead>\n",
       "  <tbody>\n",
       "    <tr>\n",
       "      <th>0</th>\n",
       "      <td>[가입절차] 스마트스토어센터 회원가입은 어떻게 하나요? (ID만들기)</td>\n",
       "      <td>네이버 커머스 ID 하나로 스마트스토어센터와 같은 네이버의 다양한 커머스 서비스를 ...</td>\n",
       "      <td>38</td>\n",
       "      <td>998</td>\n",
       "      <td>스마트스토어센터 회원가입은 어떻게 하나요? (ID만들기)</td>\n",
       "      <td>네이버 커머스 ID 하나로 스마트스토어센터와 같은 네이버의 다양한 커머스 서비스를 ...</td>\n",
       "    </tr>\n",
       "    <tr>\n",
       "      <th>1</th>\n",
       "      <td>[가입서류] 스마트스토어 판매자 유형별 필요한 서류가 어떻게 되나요?</td>\n",
       "      <td>스마트스토어 판매 회원 분류는 아래와 같으며 반드시 모든 서류를 제출해 주셔야 가입...</td>\n",
       "      <td>38</td>\n",
       "      <td>3737</td>\n",
       "      <td>스마트스토어 판매자 유형별 필요한 서류가 어떻게 되나요?</td>\n",
       "      <td>스마트스토어 판매 회원 분류는 아래와 같으며 반드시 모든 서류를 제출해 주셔야 가입...</td>\n",
       "    </tr>\n",
       "    <tr>\n",
       "      <th>2</th>\n",
       "      <td>[심사결과] 가입 신청을 했습니다. 심사 결과는 어떻게 확인하나요?</td>\n",
       "      <td>스마트스토어센터에 로그인하시면 \"팝업\" 또는 [판매자 정보 &gt; 심사내역 조회] 메뉴...</td>\n",
       "      <td>37</td>\n",
       "      <td>886</td>\n",
       "      <td>가입 신청을 했습니다. 심사 결과는 어떻게 확인하나요?</td>\n",
       "      <td>스마트스토어센터에 로그인하시면 \"팝업\" 또는 [판매자 정보 &gt; 심사내역 조회] 메뉴...</td>\n",
       "    </tr>\n",
       "    <tr>\n",
       "      <th>3</th>\n",
       "      <td>[가입절차][쇼핑윈도/패션타운] 네이버 쇼핑윈도 노출 절차는 어떻게 되나요?</td>\n",
       "      <td>네이버 쇼핑 윈도에 입점하기 위해서는, [노출관리 &gt; 쇼핑윈도 노출제안] 을 통해 ...</td>\n",
       "      <td>42</td>\n",
       "      <td>955</td>\n",
       "      <td>네이버 쇼핑윈도 노출 절차는 어떻게 되나요?</td>\n",
       "      <td>네이버 쇼핑 윈도에 입점하기 위해서는, [노출관리 &gt; 쇼핑윈도 노출제안] 을 통해 ...</td>\n",
       "    </tr>\n",
       "    <tr>\n",
       "      <th>4</th>\n",
       "      <td>[가입서류] 국내 사업자로 가입하려면 어떤 서류가 필요한가요?</td>\n",
       "      <td>국내 간이/개인(일반)/법인 사업자'로 가입하기 위해서는 아래의 서류를 사전에 준비...</td>\n",
       "      <td>34</td>\n",
       "      <td>2889</td>\n",
       "      <td>국내 사업자로 가입하려면 어떤 서류가 필요한가요?</td>\n",
       "      <td>국내 간이/개인(일반)/법인 사업자'로 가입하기 위해서는 아래의 서류를 사전에 준비...</td>\n",
       "    </tr>\n",
       "  </tbody>\n",
       "</table>\n",
       "</div>"
      ],
      "text/plain": [
       "                                        query  \\\n",
       "0      [가입절차] 스마트스토어센터 회원가입은 어떻게 하나요? (ID만들기)   \n",
       "1      [가입서류] 스마트스토어 판매자 유형별 필요한 서류가 어떻게 되나요?   \n",
       "2       [심사결과] 가입 신청을 했습니다. 심사 결과는 어떻게 확인하나요?   \n",
       "3  [가입절차][쇼핑윈도/패션타운] 네이버 쇼핑윈도 노출 절차는 어떻게 되나요?   \n",
       "4          [가입서류] 국내 사업자로 가입하려면 어떤 서류가 필요한가요?   \n",
       "\n",
       "                                              answer  query_len  answer_len  \\\n",
       "0  네이버 커머스 ID 하나로 스마트스토어센터와 같은 네이버의 다양한 커머스 서비스를 ...         38         998   \n",
       "1  스마트스토어 판매 회원 분류는 아래와 같으며 반드시 모든 서류를 제출해 주셔야 가입...         38        3737   \n",
       "2  스마트스토어센터에 로그인하시면 \"팝업\" 또는 [판매자 정보 > 심사내역 조회] 메뉴...         37         886   \n",
       "3  네이버 쇼핑 윈도에 입점하기 위해서는, [노출관리 > 쇼핑윈도 노출제안] 을 통해 ...         42         955   \n",
       "4  국내 간이/개인(일반)/법인 사업자'로 가입하기 위해서는 아래의 서류를 사전에 준비...         34        2889   \n",
       "\n",
       "                     cleaned_query  \\\n",
       "0  스마트스토어센터 회원가입은 어떻게 하나요? (ID만들기)   \n",
       "1  스마트스토어 판매자 유형별 필요한 서류가 어떻게 되나요?   \n",
       "2   가입 신청을 했습니다. 심사 결과는 어떻게 확인하나요?   \n",
       "3         네이버 쇼핑윈도 노출 절차는 어떻게 되나요?   \n",
       "4      국내 사업자로 가입하려면 어떤 서류가 필요한가요?   \n",
       "\n",
       "                                      cleaned_answer  \n",
       "0  네이버 커머스 ID 하나로 스마트스토어센터와 같은 네이버의 다양한 커머스 서비스를 ...  \n",
       "1  스마트스토어 판매 회원 분류는 아래와 같으며 반드시 모든 서류를 제출해 주셔야 가입...  \n",
       "2  스마트스토어센터에 로그인하시면 \"팝업\" 또는 [판매자 정보 > 심사내역 조회] 메뉴...  \n",
       "3  네이버 쇼핑 윈도에 입점하기 위해서는, [노출관리 > 쇼핑윈도 노출제안] 을 통해 ...  \n",
       "4  국내 간이/개인(일반)/법인 사업자'로 가입하기 위해서는 아래의 서류를 사전에 준비...  "
      ]
     },
     "execution_count": 9,
     "metadata": {},
     "output_type": "execute_result"
    }
   ],
   "source": [
    "import re\n",
    "\n",
    "\n",
    "def clean_query(text):\n",
    "    # [text] 패턴 전체 삭제\n",
    "    text = re.sub(r'\\[.*?]\\s*', '', text)\n",
    "\n",
    "    # 여러 개의 공백을 하나로 줄이고 strip\n",
    "    text = re.sub(r'\\s+', ' ', text).strip()\n",
    "    return text\n",
    "\n",
    "\n",
    "def clean_answer(text):\n",
    "    # 제거할 유니코드 문자\n",
    "    unwanted_chars = [\n",
    "        '\\u00A0',  # non-breaking space (xa0 or &nbsp;)\n",
    "        '\\u3000',  # ideographic space (full-width space)\n",
    "        '\\u200b',  # zero-width space\n",
    "        '\\u200d',  # zero-width joiner\n",
    "        '\\ufeff'   # BOM\n",
    "    ]\n",
    "\n",
    "    # 유니코드 문자 제거\n",
    "    for ch in unwanted_chars:\n",
    "        text = text.replace(ch, ' ')\n",
    "\n",
    "    # 여러 개의 공백을 하나로 줄이고 strip\n",
    "    text = re.sub(r'\\s+', ' ', text).strip()\n",
    "\n",
    "    # 시스템 문장 제거\n",
    "    text = re.sub(\"위 도움말이 도움이 되었나요?.*\", \"\", text, flags=re.DOTALL)\n",
    "\n",
    "    return text\n",
    "\n",
    "\n",
    "df[\"cleaned_query\"] = df[\"query\"].apply(clean_query)\n",
    "df[\"cleaned_answer\"] = df[\"answer\"].apply(clean_answer)\n",
    "df.head()"
   ]
  },
  {
   "cell_type": "code",
   "execution_count": null,
   "metadata": {},
   "outputs": [],
   "source": []
  },
  {
   "cell_type": "code",
   "execution_count": null,
   "metadata": {},
   "outputs": [],
   "source": []
  }
 ],
 "metadata": {
  "kernelspec": {
   "display_name": "coxwave",
   "language": "python",
   "name": "python3"
  },
  "language_info": {
   "codemirror_mode": {
    "name": "ipython",
    "version": 3
   },
   "file_extension": ".py",
   "mimetype": "text/x-python",
   "name": "python",
   "nbconvert_exporter": "python",
   "pygments_lexer": "ipython3",
   "version": "3.10.17"
  }
 },
 "nbformat": 4,
 "nbformat_minor": 2
}
